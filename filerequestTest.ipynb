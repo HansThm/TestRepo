{
 "cells": [
  {
   "cell_type": "code",
   "execution_count": 1,
   "id": "18b587d4",
   "metadata": {},
   "outputs": [],
   "source": [
    "import PySimpleGUI as sg\n",
    "import pandas as pd"
   ]
  },
  {
   "cell_type": "code",
   "execution_count": 2,
   "id": "76683ecb",
   "metadata": {},
   "outputs": [
    {
     "name": "stdout",
     "output_type": "stream",
     "text": [
      "C:/Users/hanst/Documents/GitHub/Milk-O-Scan/raw-dairy-data.xlsx\n"
     ]
    }
   ],
   "source": [
    "\n",
    "\n",
    "\n",
    "sg.theme(\"DarkTeal2\")\n",
    "layout = [[sg.T(\"\")], [sg.Text(\"Choose a file: \"), sg.Input(), sg.FileBrowse(key=\"-IN-\")],[sg.Button(\"Submit\")]]\n",
    "\n",
    "###Building Window\n",
    "window = sg.Window('My File Browser', layout, size=(600,150))\n",
    "    \n",
    "while True:\n",
    "    event, values = window.read()\n",
    "    if event == sg.WIN_CLOSED or event==\"Exit\":\n",
    "        break\n",
    "    elif event == \"Submit\":\n",
    "        print(values[\"-IN-\"])\n",
    "        RawDairy = pd.read_excel(values[\"-IN-\"], sheet_name=1)"
   ]
  },
  {
   "cell_type": "code",
   "execution_count": 3,
   "id": "26035f89",
   "metadata": {},
   "outputs": [],
   "source": [
    "#print(values[\"-IN-\"])\n",
    "#RawDairy = pd.read_excel(values[\"-IN-\"], sheet_name=1)\n",
    "\n"
   ]
  },
  {
   "cell_type": "code",
   "execution_count": 4,
   "id": "dc114a95",
   "metadata": {},
   "outputs": [
    {
     "data": {
      "text/plain": [
       "Index(['Analysis Date/Time', 'Analysis ID', 'IgG, As-Is %', 'Moisture, %',\n",
       "       'IgG, Dry Base %', 'Dairy Name ', 'Cow Herd ', 'Region  '],\n",
       "      dtype='object')"
      ]
     },
     "execution_count": 4,
     "metadata": {},
     "output_type": "execute_result"
    }
   ],
   "source": [
    "RawDairy = RawDairy[[ 'Analysis Date/Time', 'Analysis ID', \n",
    "       'IgG, As-Is %', 'Moisture, %', 'IgG, Dry Base %', 'Dairy Name ',\n",
    "       'Cow Herd ', 'Region  ']]\n",
    "\n",
    "RawDairy.columns"
   ]
  },
  {
   "cell_type": "markdown",
   "id": "eee8a8e7",
   "metadata": {},
   "source": [
    "import PySimpleGUI as sg\n",
    "\n",
    "layout = [[sg.Text(\"Hello from PySimpleGUI\")], [sg.Button(\"OK\")]]\n",
    "\n",
    "# Create the window\n",
    "window = sg.Window(\"Demo\", layout)\n",
    "\n",
    "# Create an event loop\n",
    "while True:\n",
    "    event, values = window.read()\n",
    "    # End program if user closes window or\n",
    "    # presses the OK button\n",
    "    if event == \"OK\" or event == sg.WIN_CLOSED:\n",
    "        break\n",
    "\n",
    "window.close()"
   ]
  }
 ],
 "metadata": {
  "kernelspec": {
   "display_name": "Python 3",
   "language": "python",
   "name": "python3"
  },
  "language_info": {
   "codemirror_mode": {
    "name": "ipython",
    "version": 3
   },
   "file_extension": ".py",
   "mimetype": "text/x-python",
   "name": "python",
   "nbconvert_exporter": "python",
   "pygments_lexer": "ipython3",
   "version": "3.7.3"
  }
 },
 "nbformat": 4,
 "nbformat_minor": 5
}
